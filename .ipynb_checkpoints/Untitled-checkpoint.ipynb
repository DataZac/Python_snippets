{
 "cells": [
  {
   "cell_type": "markdown",
   "metadata": {
    "collapsed": true
   },
   "source": [
    "\n",
    "  \n",
    "  1.10: Everything is an object"
   ]
  },
  {
   "cell_type": "code",
   "execution_count": 27,
   "metadata": {
    "collapsed": false
   },
   "outputs": [
    {
     "name": "stdout",
     "output_type": "stream",
     "text": [
      "[8.0, 6.0]\n"
     ]
    }
   ],
   "source": [
    "from IPython.display import display, Image\n",
    "import math\n",
    "import os\n",
    "import pandas as pd\n",
    "import numpy as np\n",
    "import matplotlib as mpl\n",
    "import matplotlib.pyplot as plt\n",
    "import seaborn as sns\n",
    "import pdb\n",
    "from IPython.display import Image\n",
    "from sklearn.linear_model import LinearRegression, Lasso, LassoCV\n",
    "from sklearn.metrics import mean_squared_error, mean_absolute_error, explained_variance_score,r2_score, log_loss, make_scorer\n",
    "from sklearn.model_selection import train_test_split, cross_val_score, KFold\n",
    "from sklearn.preprocessing import OneHotEncoder\n",
    "from scipy.stats import probplot as qqplot\n",
    "from sklearn.svm.libsvm import predict_proba # need for the log_loss metric\n",
    "import warnings\n",
    "from scipy.stats import poisson\n",
    "import lizec\n",
    "pd.options.display.float_format = '{:.5f}'.format\n",
    "pd.set_option('display.max_columns', 500)\n",
    "plt.style.use('classic')\n",
    "warnings.filterwarnings(\"ignore\", category=DeprecationWarning)\n",
    "pd.options.mode.chained_assignment = None\n",
    "print(plt.rcParams.get('figure.figsize'))\n",
    "plt.rcParams['figure.figsize'] = (6, 4)\n",
    "#%matplotlib inline  "
   ]
  },
  {
   "cell_type": "markdown",
   "metadata": {},
   "source": [
    "# Python code snippets <a id=\"chapter-1\"></a>"
   ]
  },
  {
   "cell_type": "code",
   "execution_count": 2,
   "metadata": {
    "collapsed": false
   },
   "outputs": [
    {
     "data": {
      "image/png": "[encoded data removed]",
      "text/plain": [
       "<IPython.core.display.Image object>"
      ]
     },
     "execution_count": 2,
     "metadata": {
      "image/png": {
       "height": 540,
       "width": 540
      }
     },
     "output_type": "execute_result"
    }
   ],
   "source": [
    "Image(filename='relationships.png', width = 540, height = 540) #http://nvie.com/posts/iterators-vs-generators/"
   ]
  },
  {
   "cell_type": "code",
   "execution_count": 15,
   "metadata": {
    "collapsed": false
   },
   "outputs": [
    {
     "name": "stdout",
     "output_type": "stream",
     "text": [
      "<class 'str_iterator'>\n",
      "a\n",
      " \n",
      "c\n",
      "o\n",
      "f\n"
     ]
    }
   ],
   "source": [
    "# using an iterable , a tuple, create an iterator and use its __next__method\n",
    "string = 'a cofee and a panda'\n",
    "#a = iter(string)\n",
    "a = string.__iter__()# line above produces the same\n",
    "print(type(a))\n",
    "for i in range(5): print(a.__next__())"
   ]
  },
  {
   "cell_type": "code",
   "execution_count": 16,
   "metadata": {
    "collapsed": false
   },
   "outputs": [
    {
     "name": "stdout",
     "output_type": "stream",
     "text": [
      "['a', ' ', 'c', 'o', 'f', 'e', 'e', ' ', 'a', 'n', 'd', ' ', 'a', ' ', 'p', 'a', 'n', 'd', 'a']\n",
      "['a', ' ', 'c', 'o', 'f', 'e', 'e', ' ', 'a', 'n', 'd', ' ', 'a', ' ', 'p', 'a', 'n', 'd', 'a']\n"
     ]
    }
   ],
   "source": [
    "# using the iterability of strings (to create iterators from them)\n",
    "string = 'a cofee and a panda'\n",
    "a = [letter for letter in string]\n",
    "print(a)"
   ]
  },
  {
   "cell_type": "code",
   "execution_count": 5,
   "metadata": {
    "collapsed": false
   },
   "outputs": [
    {
     "name": "stdout",
     "output_type": "stream",
     "text": [
      "['eat, sleep, pray, eat, sleep, coffee', 'pray, eat, sleep, workout, pray, eat, love', 'eat, pr']\n",
      "[]\n",
      "['eat, sleep, pray, eat, sleep, coffee,\\n', 'pray, eat, sleep, workout, pray, eat, love,\\n', 'eat, pray']\n"
     ]
    }
   ],
   "source": [
    "# using a file-open pointer as iterator\n",
    "\n",
    "lines = open(\"todo.txt\", 'r')\n",
    "\n",
    "a = [line[:-2]  for line in lines if True == True ]\n",
    "\n",
    "print(a)\n",
    "\n",
    "a = [line for line in lines] # iterators can be consumed\n",
    "print(a)\n",
    "\n",
    "lines.seek(0)# set pointer to beginning to re-iterte\n",
    "a = [line for line in lines]\n",
    "print(a)"
   ]
  },
  {
   "cell_type": "code",
   "execution_count": 6,
   "metadata": {
    "collapsed": false
   },
   "outputs": [
    {
     "data": {
      "text/plain": [
       "True"
      ]
     },
     "execution_count": 6,
     "metadata": {},
     "output_type": "execute_result"
    }
   ],
   "source": [
    "# checking if a string is part of a subtring\n",
    "'eat' in 'prayeatlove' #\n"
   ]
  },
  {
   "cell_type": "code",
   "execution_count": 7,
   "metadata": {
    "collapsed": false
   },
   "outputs": [
    {
     "name": "stdout",
     "output_type": "stream",
     "text": [
      "1 2\n"
     ]
    }
   ],
   "source": [
    "# creating a iterator from an iterable (means it has __iter__() method)\n",
    "a = [1, 2, 3]\n",
    "try:\n",
    "    a.__next__() # not yet an iterble\n",
    "\n",
    "except:\n",
    "    b = a.__iter__()\n",
    "    print(b.__next__(), b.__next__())"
   ]
  },
  {
   "cell_type": "code",
   "execution_count": 8,
   "metadata": {
    "collapsed": false
   },
   "outputs": [
    {
     "name": "stdout",
     "output_type": "stream",
     "text": [
      "400\n",
      "300\n",
      "200\n",
      "100\n",
      "0\n"
     ]
    }
   ],
   "source": [
    "# defining my own iterator (__next__() method with stop condition)\n",
    "class CashMachine:\n",
    "    def __init__(self, cash = 100000):\n",
    "        self.cash = cash\n",
    "    def __iter__(self):\n",
    "        return self\n",
    "    def __next__(self):\n",
    "        self.cash = self.cash - 100\n",
    "        if (self.cash < 0):\n",
    "            raise StopIteration\n",
    "            \n",
    "        else:\n",
    "            return self.cash\n",
    "atm1 = CashMachine(cash = 500)\n",
    "for cash in atm1: print(cash)"
   ]
  },
  {
   "cell_type": "code",
   "execution_count": 9,
   "metadata": {
    "collapsed": false
   },
   "outputs": [
    {
     "name": "stdout",
     "output_type": "stream",
     "text": [
      "900 \n",
      "\n",
      "800\n",
      "700\n",
      "600\n",
      "500\n",
      "400\n",
      "300\n",
      "200\n",
      "100\n",
      "0\n"
     ]
    }
   ],
   "source": [
    "def CashMaschine(cash = 500):\n",
    "    while True:\n",
    "        yield cash\n",
    "        cash = cash - 100\n",
    "        if cash < 0:\n",
    "            raise StopIteration\n",
    "\n",
    "atm1 = CashMaschine(900) \n",
    "print(atm1.__next__(), '\\n')\n",
    "for cash in atm1: print(cash)\n"
   ]
  },
  {
   "cell_type": "code",
   "execution_count": 66,
   "metadata": {
    "collapsed": false
   },
   "outputs": [
    {
     "name": "stdout",
     "output_type": "stream",
     "text": [
      "1 4\n",
      "2 5\n",
      "3 6\n"
     ]
    }
   ],
   "source": [
    "x = [1, 2, 3]\n",
    "y = [4, 5, 6]\n",
    "zipped = zip(x, y)\n",
    "for x,y in zipped: print(x,y)"
   ]
  },
  {
   "cell_type": "code",
   "execution_count": 75,
   "metadata": {
    "collapsed": false
   },
   "outputs": [
    {
     "name": "stdout",
     "output_type": "stream",
     "text": [
      "{'speedlimit': 130, 'v_limit': 10, 'a_limit': 3.1} None None\n",
      "100 5 5\n"
     ]
    }
   ],
   "source": [
    "def func(speedlimit = None, a_limit = None, v_limit = None): print(speedlimit, a_limit, v_limit)\n",
    "    \n",
    "dict_ = {'speedlimit' : (100+10*x), 'a_limit': x+0.1, 'v_limit' :10}\n",
    "\n",
    "\n",
    "func(dict_)\n",
    "func(speedlimit = 100, a_limit = 5, v_limit = 5)"
   ]
  },
  {
   "cell_type": "code",
   "execution_count": 10,
   "metadata": {
    "collapsed": false
   },
   "outputs": [
    {
     "name": "stdout",
     "output_type": "stream",
     "text": [
      "I am vivec, the tall and i live in a town called vivec as well.\n"
     ]
    },
    {
     "data": {
      "text/plain": [
       "' output one of vivecs attributes along with a statement from vivec!\\n\\n\\tArgs:\\n\\n\\tReturns:\\n\\n\\t'"
      ]
     },
     "execution_count": 10,
     "metadata": {},
     "output_type": "execute_result"
    }
   ],
   "source": [
    "#import own modules\n",
    "# objects have attributes and functions, usually. In pyhton, they CAN have them.\n",
    "#__doc__ is an attribute\n",
    "# everything is an object and can be passed to functions. So can be functions and classes .\n",
    "#def vivec(eigenschaft):\n",
    "#\"\"\" output one of vivecs attributes along with a statement from vivec!\n",
    "#\n",
    "#Args:\n",
    "#\n",
    "#Returns:\n",
    "#\n",
    "#\"\"\"\n",
    "#('I am vivec, the {} and i live in a town called vivec as well.'.format(eigenschaft))\n",
    "#\n",
    "lizec.vivec('tall') \n",
    "lizec.vivec.__doc__"
   ]
  },
  {
   "cell_type": "code",
   "execution_count": 26,
   "metadata": {
    "collapsed": false
   },
   "outputs": [
    {
     "name": "stdout",
     "output_type": "stream",
     "text": [
      "a has value or is true\n",
      "b is false or is zero\n",
      "c is false or is zero\n"
     ]
    }
   ],
   "source": [
    "# check values on if\n",
    "a = 3\n",
    "b = False\n",
    "c = 0\n",
    "\n",
    "\n",
    "if a:\n",
    "    print('a has value or is true')\n",
    "else:\n",
    "    print('a is false or is zero')\n",
    "    \n",
    "if b:\n",
    "    print('b has value or is true')\n",
    "else:\n",
    "    print('b is false or is zero')\n",
    "    \n",
    "if c:\n",
    "    print('c has value or is true')\n",
    "else:\n",
    "    print('c is false or is zero')"
   ]
  },
  {
   "cell_type": "code",
   "execution_count": 12,
   "metadata": {
    "collapsed": false,
    "scrolled": true
   },
   "outputs": [
    {
     "data": {
      "text/plain": [
       "['C:\\\\Users\\\\Superman\\\\',\n",
       " '',\n",
       " 'C:\\\\Program Files\\\\Anaconda3\\\\python35.zip',\n",
       " 'C:\\\\Program Files\\\\Anaconda3\\\\DLLs',\n",
       " 'C:\\\\Program Files\\\\Anaconda3\\\\lib',\n",
       " 'C:\\\\Program Files\\\\Anaconda3',\n",
       " 'C:\\\\Program Files\\\\Anaconda3\\\\lib\\\\site-packages',\n",
       " 'C:\\\\Program Files\\\\Anaconda3\\\\lib\\\\site-packages\\\\Sphinx-1.4.6-py3.5.egg',\n",
       " 'C:\\\\Program Files\\\\Anaconda3\\\\lib\\\\site-packages\\\\win32',\n",
       " 'C:\\\\Program Files\\\\Anaconda3\\\\lib\\\\site-packages\\\\win32\\\\lib',\n",
       " 'C:\\\\Program Files\\\\Anaconda3\\\\lib\\\\site-packages\\\\Pythonwin',\n",
       " 'C:\\\\Program Files\\\\Anaconda3\\\\lib\\\\site-packages\\\\setuptools-27.2.0-py3.5.egg',\n",
       " 'C:\\\\Program Files\\\\Anaconda3\\\\lib\\\\site-packages\\\\IPython\\\\extensions',\n",
       " 'C:\\\\Users\\\\Superman\\\\.ipython']"
      ]
     },
     "execution_count": 12,
     "metadata": {},
     "output_type": "execute_result"
    }
   ],
   "source": [
    "# sys.path\n",
    "# where python looks for modules\n",
    "import sys\n",
    "# add in first place, first place to look,\n",
    "# first module among many of same name is chosen\n",
    "sys.path.insert(0, 'C:\\\\Users\\\\Superman\\\\') \n",
    "sys.path"
   ]
  },
  {
   "cell_type": "code",
   "execution_count": 28,
   "metadata": {
    "collapsed": false
   },
   "outputs": [
    {
     "data": {
      "text/plain": [
       "\"C:\\\\Users\\\\Superman\\\\Dropbox\\\\Schatztruhe 911\\\\J's Kram\\\\IT_Projekte\\\\Python\\\\Python_snippets\""
      ]
     },
     "execution_count": 28,
     "metadata": {},
     "output_type": "execute_result"
    }
   ],
   "source": [
    "os.getcwd()"
   ]
  },
  {
   "cell_type": "code",
   "execution_count": 38,
   "metadata": {
    "collapsed": false
   },
   "outputs": [
    {
     "name": "stdout",
     "output_type": "stream",
     "text": [
      "Found an even number 2\n",
      "found a number 3\n",
      "Found an even number 4\n",
      "found a number 5\n",
      "Found an even number 6\n",
      "found a number 7\n",
      "Found an even number 8\n",
      "found a number 9\n"
     ]
    }
   ],
   "source": [
    "# continue\n",
    "# stop current iteration step of a loop and continue at the next step\n",
    "for num in range(2, 10):\n",
    "    if num % 2 == 0:\n",
    "        print (\"Found an even number\", num)\n",
    "        continue\n",
    "    print('found a number', num)"
   ]
  },
  {
   "cell_type": "code",
   "execution_count": 39,
   "metadata": {
    "collapsed": false
   },
   "outputs": [
    {
     "name": "stdout",
     "output_type": "stream",
     "text": [
      "found a number 2\n",
      "found a number 3\n",
      "found a number 4\n",
      "found a number 5\n",
      "Found an  6\n"
     ]
    }
   ],
   "source": [
    "# break\n",
    "# break the current and all further iterations of the loop\n",
    "for num in range(2, 10):\n",
    "    if num  == 6:\n",
    "        print (\"Found an \", num)\n",
    "        break\n",
    "    print('found a number', num)"
   ]
  },
  {
   "cell_type": "code",
   "execution_count": 40,
   "metadata": {
    "collapsed": false
   },
   "outputs": [
    {
     "name": "stdout",
     "output_type": "stream",
     "text": [
      "not successful\n",
      "<class 'type'>\n"
     ]
    }
   ],
   "source": [
    "# exceptions are class objects\n",
    "a = 3\n",
    "\n",
    "try:\n",
    "    a/0\n",
    "except ZeroDivisionError:\n",
    "    print('not successful')\n",
    "    \n",
    "print(type(ZeroDivisionError))"
   ]
  },
  {
   "cell_type": "code",
   "execution_count": null,
   "metadata": {
    "collapsed": true
   },
   "outputs": [],
   "source": []
  },
  {
   "cell_type": "code",
   "execution_count": 41,
   "metadata": {
    "collapsed": false
   },
   "outputs": [],
   "source": [
    "# pass: null operation; usefull for entering not-yet written code\n",
    "if 2 <3:\n",
    "    pass # without passt \"if\" would cause an error"
   ]
  },
  {
   "cell_type": "code",
   "execution_count": 42,
   "metadata": {
    "collapsed": false
   },
   "outputs": [],
   "source": [
    "# assert\n",
    "# exception handling\n",
    "size = 2\n",
    "\n",
    "\n",
    "assert size > 0, \"site is lower than zero\"\n",
    "\n",
    "if size < 0:\n",
    "    raise ValueError('number must be non-negative')"
   ]
  },
  {
   "cell_type": "code",
   "execution_count": 43,
   "metadata": {
    "collapsed": false
   },
   "outputs": [
    {
     "name": "stdout",
     "output_type": "stream",
     "text": [
      "5\n"
     ]
    }
   ],
   "source": [
    "# raise; custom error\n",
    "# exception handling\n",
    "import numpy as np\n",
    "\n",
    "class custom_error(BaseException):\n",
    "    pass\n",
    "\n",
    "size = 0\n",
    "\n",
    "try:\n",
    "    a=3\n",
    "    #a = 1/size\n",
    "    #raise ValueError('number must be non-negative')\n",
    "    raise custom_error\n",
    "\n",
    "\n",
    "\n",
    "except custom_error as ie:\n",
    "    a = 5\n",
    "\n",
    "print(a)\n",
    "    \n",
    "\n",
    "    \n",
    "  "
   ]
  },
  {
   "cell_type": "code",
   "execution_count": 46,
   "metadata": {
    "collapsed": false
   },
   "outputs": [
    {
     "data": {
      "text/plain": [
       "'red*blue*green*yellow'"
      ]
     },
     "execution_count": 46,
     "metadata": {},
     "output_type": "execute_result"
    }
   ],
   "source": [
    "colors = ['red', 'blue', 'green', 'yellow']\n",
    "a = '*'.join(colors)\n",
    "a"
   ]
  },
  {
   "cell_type": "code",
   "execution_count": 45,
   "metadata": {
    "collapsed": false
   },
   "outputs": [
    {
     "data": {
      "text/plain": [
       "(1, 2, 3)"
      ]
     },
     "execution_count": 45,
     "metadata": {},
     "output_type": "execute_result"
    }
   ],
   "source": [
    "# , is tuple constructor\n",
    "a = 1, 2, 3,\n",
    "a"
   ]
  },
  {
   "cell_type": "code",
   "execution_count": 51,
   "metadata": {
    "collapsed": false
   },
   "outputs": [
    {
     "name": "stdout",
     "output_type": "stream",
     "text": [
      "<class 'tuple'>\n",
      "0. apple\n",
      "35\n",
      "1. banana\n",
      "35\n",
      "2. cabbage\n",
      "35\n",
      "**********\n",
      "<class 'tuple'>\n",
      "0. meat\n",
      "29\n",
      "**********\n"
     ]
    }
   ],
   "source": [
    "#*args (list-like),**kwargs (dict-like, 'keyword'-args) and default arguments\n",
    "# how to use dicts\n",
    "# do only use * or ** in definition statement, not inside the function\n",
    "def print_everything(*args, age = 35):\n",
    "        print(type(args))\n",
    "        for count, thing in enumerate(args):\n",
    "             print( '{0}. {1}'.format(count, thing))\n",
    "             print(age)\n",
    "\n",
    "\n",
    "print_everything('apple', 'banana', 'cabbage')\n",
    "print('**********')\n",
    "print_everything('meat', age=29)\n",
    "print('**********')\n"
   ]
  },
  {
   "cell_type": "code",
   "execution_count": 50,
   "metadata": {
    "collapsed": false
   },
   "outputs": [
    {
     "name": "stdout",
     "output_type": "stream",
     "text": [
      "<class 'dict'>\n",
      "0 name\n",
      "1 age\n",
      "**********\n",
      "{'name': 'John', 'age': '99'}\n",
      "**********\n",
      "dict_items([('name', 'John'), ('age', '99')]) dict_keys(['name', 'age']) dict_values(['John', '99'])\n"
     ]
    }
   ],
   "source": [
    "#*args (list-like),**kwargs (dict-like, 'keyword'-args) and default arguments\n",
    "# how to use dicts\n",
    "# do only use * or ** in definition statement, not inside the function\n",
    "def func(**kwargs):\n",
    "    print(type(kwargs))\n",
    "    for i,item in enumerate(kwargs):\n",
    "        print(i, item)\n",
    "    print('**********')    \n",
    "    print(kwargs)\n",
    "    print('**********')\n",
    "    print(kwargs.items(),kwargs.keys(),kwargs.values())\n",
    "    \n",
    "func(name='John', age='99')"
   ]
  },
  {
   "cell_type": "code",
   "execution_count": 2,
   "metadata": {
    "collapsed": false
   },
   "outputs": [
    {
     "name": "stdout",
     "output_type": "stream",
     "text": [
      "[ 1.  2.]\n",
      "\n",
      " *\n",
      "135.0\n",
      "\n",
      " *\n",
      "[[[1 1 1 1]\n",
      "  [2 2 2 2]\n",
      "  [3 3 3 3]\n",
      "  [4 4 4 4]\n",
      "  [5 5 5 5]\n",
      "  [6 6 6 6]\n",
      "  [7 7 7 7]\n",
      "  [8 8 8 8]\n",
      "  [9 9 9 9]]\n",
      "\n",
      " [[1 2 3 4]\n",
      "  [1 2 3 4]\n",
      "  [1 2 3 4]\n",
      "  [1 2 3 4]\n",
      "  [1 2 3 4]\n",
      "  [1 2 3 4]\n",
      "  [1 2 3 4]\n",
      "  [1 2 3 4]\n",
      "  [1 2 3 4]]]\n",
      "\n",
      " *\n",
      "[[  inf  135.  180.  225.]\n",
      " [  inf   inf  225.  270.]\n",
      " [  inf   inf   inf  315.]\n",
      " [  inf   inf   inf   inf]\n",
      " [  inf   inf   inf   inf]\n",
      " [  inf   inf   inf   inf]\n",
      " [  inf   inf   inf   inf]\n",
      " [  inf   inf   inf   inf]\n",
      " [  inf   inf   inf   inf]]\n",
      "\n",
      " *\n"
     ]
    }
   ],
   "source": [
    "# grid optimization, usage of np.inf\n",
    "\n",
    "import numpy as np\n",
    "import pandas as pd\n",
    "import scipy.optimize as opti\n",
    "\n",
    "\n",
    "\n",
    "DEEF = pd.DataFrame(data = np.arange(10), columns = ['A'], index =[1,2,3,4,5,6,7,8,9,10])\n",
    "\n",
    "def calc_dv(parameter_tuple):\n",
    "\n",
    "    fs, fa = parameter_tuple\n",
    "\n",
    "    if fs >= fa:\n",
    "        \n",
    "        return np.inf\n",
    "    \n",
    "        exit(0)\n",
    "    \n",
    "    elif fs+fa == 10:\n",
    "        \n",
    "        return np.inf\n",
    "    \n",
    "        exit(0)\n",
    "    \n",
    "    else:\n",
    "        \n",
    "        df = DEEF.copy()\n",
    "\n",
    "        df.B=df.A.apply(lambda x: x*fs+x*fa)\n",
    "\n",
    "        return df\n",
    "\n",
    "\n",
    "def calc_metric(parameter_tuple):\n",
    "\n",
    "    df = calc_dv(parameter_tuple)\n",
    "\n",
    "    if type(df) == float :\n",
    "        \n",
    "        return np.inf\n",
    "    \n",
    "    else:\n",
    "        \n",
    "        result = df.B.sum()\n",
    "\n",
    "        return result\n",
    "\n",
    "\n",
    "rranges = (slice(1, 10, 1), slice(1, 5, 1))\n",
    "\n",
    "resbrute = scipy.optimize.brute(calc_metric, rranges, full_output=True,\n",
    "                              finish=False)\n",
    "\n",
    "for item in resbrute:\n",
    "        print(item)\n",
    "        print(\"\\n *\")\n",
    "        "
   ]
  },
  {
   "cell_type": "code",
   "execution_count": 61,
   "metadata": {
    "collapsed": false
   },
   "outputs": [
    {
     "data": {
      "text/plain": [
       "[('CM1', 1, 0),\n",
       " ('CM1', 1, 1),\n",
       " ('CM1', 1, 2),\n",
       " ('CM1', 1, 3),\n",
       " ('CM1', 1, 4),\n",
       " ('CM1', 1, 5),\n",
       " ('CM1', 1, 6),\n",
       " ('CM1', 1, 7),\n",
       " ('CM1', 1, 8),\n",
       " ('CM1', 1, 9),\n",
       " ('CM1', 1, 10),\n",
       " ('CM1', 1, 11),\n",
       " ('CM1', 1, 12),\n",
       " ('CM1', 1, 13),\n",
       " ('CM1', 1, 14),\n",
       " ('CM1', 1, 15),\n",
       " ('CM1', 1, 16),\n",
       " ('CM1', 1, 17),\n",
       " ('CM1', 1, 18),\n",
       " ('CM1', 2, 0),\n",
       " ('CM1', 2, 1),\n",
       " ('CM1', 2, 2),\n",
       " ('CM1', 2, 3),\n",
       " ('CM1', 2, 4),\n",
       " ('CM1', 2, 5),\n",
       " ('CM1', 2, 6),\n",
       " ('CM1', 2, 7),\n",
       " ('CM1', 2, 8),\n",
       " ('CM1', 2, 9),\n",
       " ('CM1', 2, 10),\n",
       " ('CM1', 2, 11),\n",
       " ('CM1', 2, 12),\n",
       " ('CM1', 2, 13),\n",
       " ('CM1', 2, 14),\n",
       " ('CM1', 2, 15),\n",
       " ('CM1', 2, 16),\n",
       " ('CM1', 2, 17),\n",
       " ('CM1', 2, 18),\n",
       " ('CM1', 3, 0),\n",
       " ('CM1', 3, 1),\n",
       " ('CM1', 3, 2),\n",
       " ('CM1', 3, 3),\n",
       " ('CM1', 3, 4),\n",
       " ('CM1', 3, 5),\n",
       " ('CM1', 3, 6),\n",
       " ('CM1', 3, 7),\n",
       " ('CM1', 3, 8),\n",
       " ('CM1', 3, 9),\n",
       " ('CM1', 3, 10),\n",
       " ('CM1', 3, 11),\n",
       " ('CM1', 3, 12),\n",
       " ('CM1', 3, 13),\n",
       " ('CM1', 3, 14),\n",
       " ('CM1', 3, 15),\n",
       " ('CM1', 3, 16),\n",
       " ('CM1', 3, 17),\n",
       " ('CM1', 3, 18),\n",
       " ('CM1', 4, 0),\n",
       " ('CM1', 4, 1),\n",
       " ('CM1', 4, 2),\n",
       " ('CM1', 4, 3),\n",
       " ('CM1', 4, 4),\n",
       " ('CM1', 4, 5),\n",
       " ('CM1', 4, 6),\n",
       " ('CM1', 4, 7),\n",
       " ('CM1', 4, 8),\n",
       " ('CM1', 4, 9),\n",
       " ('CM1', 4, 10),\n",
       " ('CM1', 4, 11),\n",
       " ('CM1', 4, 12),\n",
       " ('CM1', 4, 13),\n",
       " ('CM1', 4, 14),\n",
       " ('CM1', 4, 15),\n",
       " ('CM1', 4, 16),\n",
       " ('CM1', 4, 17),\n",
       " ('CM1', 4, 18),\n",
       " ('CM1', 5, 0),\n",
       " ('CM1', 5, 1),\n",
       " ('CM1', 5, 2),\n",
       " ('CM1', 5, 3),\n",
       " ('CM1', 5, 4),\n",
       " ('CM1', 5, 5),\n",
       " ('CM1', 5, 6),\n",
       " ('CM1', 5, 7),\n",
       " ('CM1', 5, 8),\n",
       " ('CM1', 5, 9),\n",
       " ('CM1', 5, 10),\n",
       " ('CM1', 5, 11),\n",
       " ('CM1', 5, 12),\n",
       " ('CM1', 5, 13),\n",
       " ('CM1', 5, 14),\n",
       " ('CM1', 5, 15),\n",
       " ('CM1', 5, 16),\n",
       " ('CM1', 5, 17),\n",
       " ('CM1', 5, 18),\n",
       " ('CM1', 6, 0),\n",
       " ('CM1', 6, 1),\n",
       " ('CM1', 6, 2),\n",
       " ('CM1', 6, 3),\n",
       " ('CM1', 6, 4),\n",
       " ('CM1', 6, 5),\n",
       " ('CM1', 6, 6),\n",
       " ('CM1', 6, 7),\n",
       " ('CM1', 6, 8),\n",
       " ('CM1', 6, 9),\n",
       " ('CM1', 6, 10),\n",
       " ('CM1', 6, 11),\n",
       " ('CM1', 6, 12),\n",
       " ('CM1', 6, 13),\n",
       " ('CM1', 6, 14),\n",
       " ('CM1', 6, 15),\n",
       " ('CM1', 6, 16),\n",
       " ('CM1', 6, 17),\n",
       " ('CM1', 6, 18),\n",
       " ('CM1', 7, 0),\n",
       " ('CM1', 7, 1),\n",
       " ('CM1', 7, 2),\n",
       " ('CM1', 7, 3),\n",
       " ('CM1', 7, 4),\n",
       " ('CM1', 7, 5),\n",
       " ('CM1', 7, 6),\n",
       " ('CM1', 7, 7),\n",
       " ('CM1', 7, 8),\n",
       " ('CM1', 7, 9),\n",
       " ('CM1', 7, 10),\n",
       " ('CM1', 7, 11),\n",
       " ('CM1', 7, 12),\n",
       " ('CM1', 7, 13),\n",
       " ('CM1', 7, 14),\n",
       " ('CM1', 7, 15),\n",
       " ('CM1', 7, 16),\n",
       " ('CM1', 7, 17),\n",
       " ('CM1', 7, 18),\n",
       " ('CM1', 8, 0),\n",
       " ('CM1', 8, 1),\n",
       " ('CM1', 8, 2),\n",
       " ('CM1', 8, 3),\n",
       " ('CM1', 8, 4),\n",
       " ('CM1', 8, 5),\n",
       " ('CM1', 8, 6),\n",
       " ('CM1', 8, 7),\n",
       " ('CM1', 8, 8),\n",
       " ('CM1', 8, 9),\n",
       " ('CM1', 8, 10),\n",
       " ('CM1', 8, 11),\n",
       " ('CM1', 8, 12),\n",
       " ('CM1', 8, 13),\n",
       " ('CM1', 8, 14),\n",
       " ('CM1', 8, 15),\n",
       " ('CM1', 8, 16),\n",
       " ('CM1', 8, 17),\n",
       " ('CM1', 8, 18),\n",
       " ('CM1', 9, 0),\n",
       " ('CM1', 9, 1),\n",
       " ('CM1', 9, 2),\n",
       " ('CM1', 9, 3),\n",
       " ('CM1', 9, 4),\n",
       " ('CM1', 9, 5),\n",
       " ('CM1', 9, 6),\n",
       " ('CM1', 9, 7),\n",
       " ('CM1', 9, 8),\n",
       " ('CM1', 9, 9),\n",
       " ('CM1', 9, 10),\n",
       " ('CM1', 9, 11),\n",
       " ('CM1', 9, 12),\n",
       " ('CM1', 9, 13),\n",
       " ('CM1', 9, 14),\n",
       " ('CM1', 9, 15),\n",
       " ('CM1', 9, 16),\n",
       " ('CM1', 9, 17),\n",
       " ('CM1', 9, 18)]"
      ]
     },
     "execution_count": 61,
     "metadata": {},
     "output_type": "execute_result"
    }
   ],
   "source": [
    "[('CM1',x+1,y) for x in range(9) for y in range(19)]"
   ]
  },
  {
   "cell_type": "code",
   "execution_count": 52,
   "metadata": {
    "collapsed": false,
    "scrolled": true
   },
   "outputs": [
    {
     "name": "stdout",
     "output_type": "stream",
     "text": [
      "(3, 4, 5)\n",
      "3 3 4 5\n"
     ]
    }
   ],
   "source": [
    "# tuple unpacking and calling functions with parameters another function was called\n",
    "\n",
    "def f(z, *params):\n",
    "    x, y = z\n",
    "    a = params # inside the function *params AND params are available\n",
    "\n",
    "    print(a)\n",
    "\n",
    "    return g(z, *params)\n",
    "\n",
    "\n",
    "def g(z, *params):\n",
    "\n",
    "    x,y = z\n",
    "\n",
    "    print(x+y, *params)\n",
    "\n",
    "\n",
    "result = f((1,2), 3,4,5)"
   ]
  },
  {
   "cell_type": "code",
   "execution_count": 53,
   "metadata": {
    "collapsed": false
   },
   "outputs": [
    {
     "name": "stdout",
     "output_type": "stream",
     "text": [
      "3\n",
      "4\n"
     ]
    }
   ],
   "source": [
    "#calling by functions in *args\n",
    "def f(x):\n",
    "    \n",
    "    return x+1\n",
    "    \n",
    "def g(x):\n",
    "    \n",
    "    return x+2\n",
    "\n",
    "def h(x, *args):\n",
    "    \n",
    "    for item in args:\n",
    "        \n",
    "        print(item(x))\n",
    "    \n",
    "h(2, f,g)\n",
    "    \n",
    "    \n",
    "    \n",
    "    \n",
    "    \n",
    "    "
   ]
  },
  {
   "cell_type": "code",
   "execution_count": null,
   "metadata": {
    "collapsed": false
   },
   "outputs": [],
   "source": [
    "#log version, lin = log\n",
    "fs = 100\n",
    "fs_lin = 0.35\n",
    "\n",
    "\n",
    "\n",
    "def func1(x):\n",
    "    return 100/((x/fs)+1)\n",
    "\n",
    "def func2(x):\n",
    "    return np.log2(fs_lin*x)\n",
    "\n",
    "func3 = np.vectorize(func2)\n",
    "\n",
    "list = np.arange(1,1000,0.1)\n",
    "rscs = list\n",
    "fw = func1(list)\n",
    "log_fw = func3(list)\n",
    "\n",
    "\n",
    "fig = plt.figure(figsize=(10,7))\n",
    "ax = fig.add_subplot(111)\n",
    "ax.plot(rscs, fw,  label='FW', c='black')\n",
    "ax.plot(rscs,log_fw,label='log2', c = 'black', linestyle = '--')\n",
    "#ax.plot(rscs,test_fw,label='test_fw')\n",
    "ax.plot(rscs,fw-log_fw, label = 'FW - log2')\n",
    "#ax.plot(rscs,fw-lin_fw-test_fw, label = 'fw - lin_fw - test_fw')\n",
    "#ax.plot(rscs,lin_fw+test_fw, label = 'lin_fw + test_fw')\n",
    "ax.yaxis.set_ticks_position(\"left\")\n",
    "plt.legend()\n",
    "plt.tight_layout()\n",
    "plt.show()\n"
   ]
  }
 ],
 "metadata": {
  "anaconda-cloud": {},
  "kernelspec": {
   "display_name": "Python [default]",
   "language": "python",
   "name": "python3"
  },
  "language_info": {
   "codemirror_mode": {
    "name": "ipython",
    "version": 3
   },
   "file_extension": ".py",
   "mimetype": "text/x-python",
   "name": "python",
   "nbconvert_exporter": "python",
   "pygments_lexer": "ipython3",
   "version": "3.5.2"
  }
 },
 "nbformat": 4,
 "nbformat_minor": 0
}
